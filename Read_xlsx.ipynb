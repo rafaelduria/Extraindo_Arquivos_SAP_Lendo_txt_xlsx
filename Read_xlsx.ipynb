{
 "cells": [
  {
   "cell_type": "code",
   "execution_count": null,
   "metadata": {},
   "outputs": [],
   "source": [
    "import pandas as pd\n",
    "import datetime \n",
    "import numpy as np\n",
    "pd.set_option('display.max_columns', None)\n",
    "pd.set_option('display.max_rows', None)"
   ]
  },
  {
   "cell_type": "code",
   "execution_count": null,
   "metadata": {},
   "outputs": [],
   "source": [
    "SQVI_BLOQUEI = pd.read_excel('U:\\\\Controladoria\\\\Cadastro\\\\14 - AUTOMATIZAÇÃO PYTHON\\\\Projetos\\\\Rafa pilot\\\\Marcar item para eliminar\\\\Pro\\\\Saldos\\\\SQVI_BLOQUEI_BLOQUEI.xlsx')\n",
    "dados = pd.read_excel('U:\\\\Controladoria\\\\Cadastro\\\\14 - AUTOMATIZAÇÃO PYTHON\\\\Projetos\\\\Rafa pilot\\\\Marcar item para eliminar\\\\Pro\\\\Saldos\\\\ZCO144.xlsx')\n",
    "Estoque_Sql = pd.read_excel('U:\\\\Controladoria\\\\Cadastro\\\\14 - AUTOMATIZAÇÃO PYTHON\\\\Projetos\\\\Rafa pilot\\\\Marcar item para eliminar\\\\Pro\\\\Saldos\\\\estoque.xlsx')\n",
    "Padrão_de_material = pd.read_excel('U:\\\\Controladoria\\\\Cadastro\\\\14 - AUTOMATIZAÇÃO PYTHON\\\\Projetos\\\\Rafa pilot\\\\Marcar item para eliminar\\\\Pro\\\\Saldos\\\\Padrão de material.xlsx')\n",
    "ULTIMA_VENDA = pd.read_excel('U:\\\\Controladoria\\\\Cadastro\\\\14 - AUTOMATIZAÇÃO PYTHON\\\\Projetos\\\\Rafa pilot\\\\Marcar item para eliminar\\\\Pro\\\\Saldos\\\\ULTIMA_VENDA.xlsx')\n",
    "ME2M = pd.read_excel('U:\\\\Controladoria\\\\Cadastro\\\\14 - AUTOMATIZAÇÃO PYTHON\\\\Projetos\\\\Rafa pilot\\\\Marcar item para eliminar\\\\Pro\\\\Saldos\\\\ME2M.xlsx')\n",
    "sqvi_zpp89_frequencia_venda = pd.read_excel('U:\\\\Controladoria\\\\Cadastro\\\\14 - AUTOMATIZAÇÃO PYTHON\\\\Projetos\\\\Rafa pilot\\\\Marcar item para eliminar\\\\Pro\\\\Saldos\\\\sqvi_zpp89_frequencia_venda_frequencia_venda.xlsx')\n",
    "ZSD138_CARTE = pd.read_excel('U:\\\\Controladoria\\\\Cadastro\\\\14 - AUTOMATIZAÇÃO PYTHON\\\\Projetos\\\\Rafa pilot\\\\Marcar item para eliminar\\\\Pro\\\\Saldos\\\\ZSD138_CARTE.xlsx')\n",
    "ZPP101 = pd.read_excel('U:\\\\Controladoria\\\\Cadastro\\\\14 - AUTOMATIZAÇÃO PYTHON\\\\Projetos\\\\Rafa pilot\\\\Marcar item para eliminar\\\\Pro\\\\Saldos\\\\ZPP101.xlsx')\n",
    "ZMM34_VENDA = pd.read_excel('U:\\\\Controladoria\\\\Cadastro\\\\14 - AUTOMATIZAÇÃO PYTHON\\\\Projetos\\\\Rafa pilot\\\\Marcar item para eliminar\\\\Pro\\\\Saldos\\\\ZMM34_VENDA.xlsx')"
   ]
  },
  {
   "cell_type": "code",
   "execution_count": null,
   "metadata": {},
   "outputs": [],
   "source": [
    "SQVI_BLOQUEI.head()"
   ]
  },
  {
   "cell_type": "code",
   "execution_count": null,
   "metadata": {},
   "outputs": [],
   "source": [
    "#Drop #eliminar coluna unidade \"Un\"\n",
    "todos_fert_sql = SQVI_BLOQUEI[['Material']]\n",
    "#lista de materiais zco144  \n",
    "fert_zco144 = dados[['Material']]\n",
    "\n",
    "#verificando juntação lista de materiais zco144 todos fert sql\n",
    "todos_fert_sql = todos_fert_sql.merge(fert_zco144, on='Material', how='outer', suffixes=['', '_'], indicator=True)\n",
    "#filtro apenas com materiais faltantes\n",
    "todos_fert_sql = todos_fert_sql.loc[(todos_fert_sql['_merge'] == 'left_only')]\n",
    "#deixando apenas coluna material\n",
    "todos_fert_sql = todos_fert_sql[['Material']]\n",
    "#colocando lista de materiais faltantes debaixo do dataframe dados\n",
    "dados = pd.concat([dados, todos_fert_sql])"
   ]
  },
  {
   "cell_type": "code",
   "execution_count": null,
   "metadata": {},
   "outputs": [],
   "source": [
    "#Copia todos códifo fert com unidade de medida basica\n",
    "todos_fert_sql_Un = SQVI_BLOQUEI[['Material','UMB']]\n",
    "\n",
    "#Merge dados com Unidade de medida basica\n",
    "dados = dados.merge(todos_fert_sql_Un, on='Material',how='left')"
   ]
  },
  {
   "cell_type": "code",
   "execution_count": null,
   "metadata": {},
   "outputs": [],
   "source": [
    "#Agrupando estoques\n",
    "Estoque_Sql = Estoque_Sql.groupby(['Material'])['Estoq'].sum().reset_index().round(3)\n",
    "#Merge dados com Estoque Material\n",
    "dados = dados.merge(Estoque_Sql.drop_duplicates('Material'),how='left',on='Material')\n",
    "#Merge dados com estoque componente\n",
    "dados = (pd.merge(dados,Estoque_Sql , left_on='Comp',  right_on='Material', how='left').drop('Material_y',axis=1))\n",
    "\n",
    "dados = dados[['Material_x','UMB','Estoq_x','Comp','UN','Estoq_y','Tipo']]\n",
    "dados = dados.rename(columns={'Material_x': 'Material', 'Estoq_x':'Estoq', 'Estoq_y':'Estoq Comp'})\n",
    "\n",
    "#padrão do material\n",
    "dados  = dados.merge(Padrão_de_material, on='Material', how='left')\n",
    "#frequencia\n",
    "dados  = dados.merge(sqvi_zpp89_frequencia_venda, on='Material', how='left')\n"
   ]
  },
  {
   "cell_type": "code",
   "execution_count": null,
   "metadata": {},
   "outputs": [],
   "source": [
    "#dados['Quant. CX Estoq'] = dados.Estoq / dados.Padrão"
   ]
  },
  {
   "cell_type": "code",
   "execution_count": null,
   "metadata": {},
   "outputs": [],
   "source": [
    "dados  = dados.merge(ZSD138_CARTE, on='Material', how='left')\n",
    "dados  = dados.merge(ZPP101, on='Material', how='left')\n",
    "\n",
    "dados = (pd.merge(dados,ME2M , left_on='Material',  right_on='Material', how='left'))\n",
    "dados = dados.rename(columns={'fornecer': 'fornecer Fert','UPP':'Upp'})\n",
    "\n",
    "dados = (pd.merge(dados,ME2M , left_on='Comp',  right_on='Material', how='left')).drop('Material_y', axis=1)\n",
    "dados = dados.rename(columns={'fornecer': 'fornecer Comp','UPP':'Upp','Material_x':'Material'})\n",
    "\n",
    "\n",
    "dados  = dados.merge(ULTIMA_VENDA, on='Material', how='left')\n",
    "dados  = dados.merge(ZMM34_VENDA, on='Material', how='left')\n",
    "SQVI_BLOQUEI.drop(['UMB'],axis=1,inplace=True)\n",
    "dados  = dados.merge(SQVI_BLOQUEI, on='Material', how='left')\n",
    "\n",
    "dados = dados.fillna({'Média':0,'Venda 12 Meses':0,'Meses Ult Venda':9999,'Meses Cadastrado':0,'Frequencia':0,'Ordem Aberta':\"Não\",'Cart Venda':0})"
   ]
  },
  {
   "cell_type": "code",
   "execution_count": null,
   "metadata": {},
   "outputs": [],
   "source": [
    "dados = dados.loc[(dados['GE'] != 'E') & (dados['Material'] != '9000SP') & (dados['Material'] != '9050SP')  & (dados['Material'] != '9100SP')  & (dados['Material'] != '9150SP') & (dados['Material'] != '9400SP') & (dados['Material'] != '9901SU') ]\n",
    "\n",
    "#Ajustando descrições das colunas\n",
    "dados = dados.rename(columns={'Desc': 'Desc GE', 'Desc.1':'Desc bloq prod', 'Desc.2':'Desc bloq venda', 'Desc.3':'Desc produto acabado'})\n",
    "\n",
    "dados['Meses Ult Venda'] = dados['Meses Ult Venda'].apply(lambda x: \"Nunca houve venda\" if x == 9999 else x) "
   ]
  },
  {
   "cell_type": "code",
   "execution_count": null,
   "metadata": {},
   "outputs": [],
   "source": [
    "#ajustando descrição unidade de saida\n",
    "dados['Unidade de Saida'] = dados['Unidade de Saida'].apply(lambda x: \"CX\" if x == \"KI\" else x)\n",
    "dados['Unidade de Saida'] = dados['Unidade de Saida'].apply(lambda x: \"SAC\" if x == \"BAG\" else x)\n",
    "dados['Unidade de Saida'] = dados['Unidade de Saida'].apply(lambda x: \"PAC\" if x == \"PAK\" else x)\n",
    "dados['Unidade de Saida'] = dados['Unidade de Saida'].apply(lambda x: \"GLL\" if x == \"GAL\" else x)\n",
    "\n",
    "#Atualizando nomes de TH para MIL de PAK para PAC\n",
    "dados['UMB'] = dados['UMB'].apply(lambda x: \"MIL\" if x == \"TH\" else x)\n",
    "dados['UMB'] = dados['UMB'].apply(lambda x: \"PAC\" if x == \"PAK\" else x)\n",
    "dados['UMB'] = dados['UMB'].apply(lambda x: \"PEC\" if x == \"ST\" else x)\n",
    "dados['UMB'] = dados['UMB'].apply(lambda x: \"PAR\" if x == \"PAA\" else x)"
   ]
  },
  {
   "cell_type": "code",
   "execution_count": null,
   "metadata": {},
   "outputs": [],
   "source": [
    "name_excel = f'{(datetime.date.today()).year}-{(datetime.date.today()).month}-{(datetime.date.today()).day}'\n",
    "dados.to_excel(f'U:\\\\Controladoria\\\\Cadastro\\\\14 - AUTOMATIZAÇÃO PYTHON\\\\Projetos\\\\Rafa pilot\\\\Marcar item para eliminar\\\\Pro\\\\Jupyter\\\\{name_excel} - Analise Final DD.xlsx',index=None, freeze_panes= (1,1))"
   ]
  }
 ],
 "metadata": {
  "kernelspec": {
   "display_name": "Python 3",
   "language": "python",
   "name": "python3"
  },
  "language_info": {
   "codemirror_mode": {
    "name": "ipython",
    "version": 3
   },
   "file_extension": ".py",
   "mimetype": "text/x-python",
   "name": "python",
   "nbconvert_exporter": "python",
   "pygments_lexer": "ipython3",
   "version": "3.11.1"
  },
  "orig_nbformat": 4,
  "vscode": {
   "interpreter": {
    "hash": "bdf57609ba838f2c4ce2834966387bc691c190c4cc6ecda110c4b2162833e2cd"
   }
  }
 },
 "nbformat": 4,
 "nbformat_minor": 2
}
