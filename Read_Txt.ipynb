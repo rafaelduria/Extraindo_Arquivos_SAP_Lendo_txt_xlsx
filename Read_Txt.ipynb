{
 "cells": [
  {
   "cell_type": "code",
   "execution_count": 2,
   "metadata": {},
   "outputs": [],
   "source": [
    "import pandas as pd\n",
    "import datetime\n",
    "import numpy as np\n",
    "\n",
    "pd.set_option('display.max_columns', None)\n",
    "pd.set_option('display.max_rows', None)"
   ]
  },
  {
   "cell_type": "code",
   "execution_count": 3,
   "metadata": {},
   "outputs": [],
   "source": [
    "def limpar_txt(linhas):  \n",
    "    linhas = [x for x in linhas if '---------------------------------------------------------------------------------------------------------------------------------------------------------------------------------------------------------------------------------------' not in x]\n",
    "    linhas = [x for x in linhas if '-------------------------------------------------------------------------------------------------------------------------------------------------------------------------------------------------------------------------------------' not in x]\n",
    "    linhas = [x for x in linhas if '--------------------------------------------------------------------------------------------------------------------------------------------------------------------------------------------------------------------------------------------------------------------------------------------------------------------------------------------------------------------------------------------------------------------------------------------------------------------------------------------------------------' not in x]\n",
    "    linhas = [x for x in linhas if '-------------------------------------------------------------------------------------------------------------------------------------------------------------------------------------------------------------------------------------------------------------------------------------------------------------------------------------------------------------------------------------------------------------------------------------------------------------------------------------------------------------------' not in x]    \n",
    "    linhas = [x for x in linhas if '-------------------------' not in x]\n",
    "    linhas = [x for x in linhas if '--------------------------' not in x]\n",
    "    linhas = [x for x in linhas if '---------------------------' not in x]\n",
    "    linhas = [x for x in linhas if '----------------------------' not in x]\n",
    "    linhas = [x for x in linhas if '-----------------------------' not in x]\n",
    "    linhas = [x for x in linhas if '-------------------------------' not in x]\n",
    "    linhas = [x for x in linhas if '---------------------------------' not in x]\n",
    "    linhas = [x for x in linhas if '-----------------------------------' not in x]\n",
    "    linhas = [x for x in linhas if '-----------------------------------------' not in x]\n",
    "    linhas = [x for x in linhas if '-------------------------------------------' not in x]\n",
    "    linhas = [x for x in linhas if '--------------------------------------------' not in x]\n",
    "    linhas = [x for x in linhas if '----------------------------------------------' not in x]\n",
    "    linhas = [x for x in linhas if '--------------------------------------------------------------------------------' not in x]\n",
    "    linhas = [x for x in linhas if '*' not in x]\n",
    "    linhas = [x for x in linhas if '|Critérios de ordenação|Cresc.|Decr.|Subtotal|' not in x]\n",
    "    linhas = [x for x in linhas if '|Material              |  X   |     |        |' not in x]\n",
    "    linhas = [x for x in linhas if 'Data Emissão' not in x]\n",
    "    linhas = [x for x in linhas if 'Emissor  ' not in x]\n",
    "    linhas = [x for x in linhas if 'Estatíst.dados' not in x]\n",
    "    linhas = [x for x in linhas if 'Gerado em' not in x]\n",
    "    linhas = [x for x in linhas if 'Histórico de consumo dos últimos 12 meses ' not in x]\n",
    "    linhas = [x for x in linhas if 'Lista tecnica multi-nível' not in x]\n",
    "    linhas = [x for x in linhas if 'Lnhs.totais determinadas' not in x]\n",
    "    linhas = [x for x in linhas if 'Registros processados:' not in x]\n",
    "    linhas = [x for x in linhas if 'Registros transfs.' not in x]    \n",
    "    linhas = [x for x in linhas if 'Sem dados' not in x]\n",
    "    linhas = [x for x in linhas if x[0][0]=='|']\n",
    "    linhas = [x.split('|') for x in linhas]\n",
    "    linhas = [x[1:-1] for x in linhas]\n",
    "\n",
    "    dados_limpados = []\n",
    "    for linha in linhas:     \n",
    "        dados_temp = []\n",
    "        for dado in linha:\n",
    "            dado = dado.rstrip().lstrip()\n",
    "            dados_temp.append(dado)\n",
    "        dados_limpados.append(dados_temp)\n",
    "\n",
    "    dados_limpados = pd.DataFrame(dados_limpados)\n",
    "    dados_limpados = dados_limpados.rename(columns=dados_limpados.iloc[0]).drop(dados_limpados.index[0])\n",
    "    dados_limpados = dados_limpados.query('Material != \"Material\"')\n",
    "    dados_limpados = dados_limpados.query('Material != \"\" ')\n",
    "    return dados_limpados"
   ]
  },
  {
   "cell_type": "code",
   "execution_count": 3,
   "metadata": {},
   "outputs": [],
   "source": [
    "with open ('U:\\\\Controladoria\\\\Cadastro\\\\14 - AUTOMATIZAÇÃO PYTHON\\\\Projetos\\\\Rafa pilot\\\\Marcar item para eliminar\\\\Pro\\\\Txt\\\\ZCO144.txt', encoding='latin1') as f:\n",
    "    linhas = f.readlines()\n",
    "    f.close()\n",
    "\n",
    "ZCO144 = limpar_txt(linhas)\n",
    "ZCO144 = ZCO144.rename(columns={'Comp. secundário': 'Comp','Tipo mat.sec.': 'Tipo','MEINS_4': 'UN' })\n",
    "ZCO144 = ZCO144.loc[(ZCO144['Nível'] == '1') & (ZCO144['Sentido'] == '1') ]\n",
    "ZCO144 = ZCO144.sort_values(by=['Material','Nível','Sentido'])\n",
    "ZCO144.drop(['Nível','Sentido'],axis=1,inplace=True)\n",
    "ZCO144 = ZCO144.loc[(ZCO144['Tipo'] != 'VERP') & (ZCO144['Tipo'] != 'ROH')]\n",
    "ZCO144 = ZCO144.drop_duplicates()\n",
    "ZCO144.to_excel('U:\\\\Controladoria\\\\Cadastro\\\\14 - AUTOMATIZAÇÃO PYTHON\\\\Projetos\\\\Rafa pilot\\\\Marcar item para eliminar\\\\Pro\\\\Saldos\\\\ZCO144.xlsx',index=None)"
   ]
  },
  {
   "cell_type": "code",
   "execution_count": 4,
   "metadata": {},
   "outputs": [],
   "source": [
    "with open ('U:\\\\Controladoria\\\\Cadastro\\\\14 - AUTOMATIZAÇÃO PYTHON\\\\Projetos\\\\Rafa pilot\\\\Marcar item para eliminar\\\\Pro\\\\Txt\\\\SQVI_BLOQUEI_BLOQUEI.txt', encoding='latin1') as f:\n",
    "    linhas = f.readlines()\n",
    "    f.close()\n",
    "\n",
    "SQVI_BLOQUEI = limpar_txt(linhas)\n",
    "\n",
    "SQVI_BLOQUEI = SQVI_BLOQUEI.rename(columns={\n",
    "'TxtBreveMaterial': 'Desc',      \n",
    "'SM': 'Bloq Prod',\n",
    "'Denominação': 'Desc',\n",
    "'St': 'Bloq Venda',\n",
    "'Denominação': 'Desc',\n",
    "'EM': 'GE',                                                   \n",
    "})\n",
    "\n",
    "SQVI_BLOQUEI[\"Criado\"] = pd.to_datetime(SQVI_BLOQUEI[\"Criado\"], dayfirst=True)\n",
    "SQVI_BLOQUEI['Meses Cadastrado'] = (pd.to_datetime(datetime.date.today()) - SQVI_BLOQUEI['Criado'])\n",
    "SQVI_BLOQUEI['Criado'] = SQVI_BLOQUEI['Criado'].dt.strftime('%d/%m/%Y')\n",
    "SQVI_BLOQUEI['Meses Cadastrado'] = ((SQVI_BLOQUEI['Meses Cadastrado'] / np.timedelta64(1, 'D')).astype(int))\n",
    "SQVI_BLOQUEI['Meses Cadastrado'] = (SQVI_BLOQUEI['Meses Cadastrado'] / 30).round()\n",
    "SQVI_BLOQUEI = SQVI_BLOQUEI.iloc[:,[0,1,6,7,4,5,8,9,10,3,11]]\n",
    "\n",
    "SQVI_BLOQUEI.to_excel('U:\\\\Controladoria\\\\Cadastro\\\\14 - AUTOMATIZAÇÃO PYTHON\\\\Projetos\\\\Rafa pilot\\\\Marcar item para eliminar\\\\Pro\\\\Saldos\\\\SQVI_BLOQUEI_BLOQUEI.xlsx',index=None)"
   ]
  },
  {
   "cell_type": "code",
   "execution_count": 5,
   "metadata": {},
   "outputs": [],
   "source": [
    "with open ('U:\\\\Controladoria\\\\Cadastro\\\\14 - AUTOMATIZAÇÃO PYTHON\\\\Projetos\\\\Rafa pilot\\\\Marcar item para eliminar\\\\Pro\\\\Txt\\\\ULTIMA_VENDA.txt', encoding='latin1'  ) as f:\n",
    "    linhas = f.readlines()\n",
    "    f.close()\n",
    "\n",
    "ULTIMA_VENDA = limpar_txt(linhas)\n",
    "ULTIMA_VENDA = ULTIMA_VENDA.rename(columns={'Dt.lçto.': 'ULTIMA_VENDA'})\n",
    "ULTIMA_VENDA[\"ULTIMA_VENDA\"] = pd.to_datetime(ULTIMA_VENDA[\"ULTIMA_VENDA\"], dayfirst=True)\n",
    "ULTIMA_VENDA['Meses Ult Venda'] = (pd.to_datetime(datetime.date.today()) - ULTIMA_VENDA['ULTIMA_VENDA'])\n",
    "ULTIMA_VENDA['ULTIMA_VENDA'] = ULTIMA_VENDA['ULTIMA_VENDA'].dt.strftime('%d/%m/%Y')\n",
    "ULTIMA_VENDA['Meses Ult Venda'] = ((ULTIMA_VENDA['Meses Ult Venda'] / np.timedelta64(1, 'D')).astype(int))\n",
    "ULTIMA_VENDA['Meses Ult Venda'] = (ULTIMA_VENDA['Meses Ult Venda'] / 30).round()\n",
    "ULTIMA_VENDA = ULTIMA_VENDA.drop(['ULTIMA_VENDA'], axis='columns')\n",
    "ULTIMA_VENDA.to_excel('U:\\\\Controladoria\\\\Cadastro\\\\14 - AUTOMATIZAÇÃO PYTHON\\\\Projetos\\\\Rafa pilot\\\\Marcar item para eliminar\\\\Pro\\\\Saldos\\\\ULTIMA_VENDA.xlsx' , index = None)"
   ]
  },
  {
   "cell_type": "code",
   "execution_count": 4,
   "metadata": {},
   "outputs": [],
   "source": [
    "with open ('U:\\\\Controladoria\\\\Cadastro\\\\14 - AUTOMATIZAÇÃO PYTHON\\\\Projetos\\\\Rafa pilot\\\\Marcar item para eliminar\\\\Pro\\\\Txt\\\\ZMM34_VENDA.txt', encoding='latin1') as f:\n",
    "    linhas = f.readlines()\n",
    "    f.close()\n",
    "\n",
    "ZMM34_VENDA = limpar_txt(linhas)\n",
    "#ZMM34_VENDA = ZMM34_VENDA.iloc[:,[0,15]]\n",
    "ZMM34_VENDA = ZMM34_VENDA.rename(columns={'Total':'Venda 12 Meses'})\n",
    "ZMM34_VENDA['Venda 12 Meses'] = ZMM34_VENDA['Venda 12 Meses'].apply(lambda x: float(x.replace(\".\",\"\").replace(\",\",\".\")))\n",
    "#ZMM34_VENDA['Média'] = ZMM34_VENDA['Média'].apply(lambda x: float(x.replace(\".\",\"\").replace(\",\",\".\")))\n",
    "ZMM34_VENDA.to_excel('U:\\\\Controladoria\\\\Cadastro\\\\14 - AUTOMATIZAÇÃO PYTHON\\\\Projetos\\\\Rafa pilot\\\\Marcar item para eliminar\\\\Pro\\\\Saldos\\\\ZMM34_VENDADURIA.xlsx', index = None)"
   ]
  },
  {
   "cell_type": "code",
   "execution_count": 7,
   "metadata": {},
   "outputs": [],
   "source": [
    "with open ('U:\\\\Controladoria\\\\Cadastro\\\\14 - AUTOMATIZAÇÃO PYTHON\\\\Projetos\\\\Rafa pilot\\\\Marcar item para eliminar\\\\Pro\\\\Txt\\\\ZSD138_CARTE.txt', encoding='latin1') as f:\n",
    "    linhas = f.readlines()\n",
    "    f.close()\n",
    "\n",
    "ZSD138_CARTE = limpar_txt(linhas)\n",
    "ZSD138_CARTE = ZSD138_CARTE.rename(columns={'Pend.Fornecer': 'Cart Venda'})\n",
    "ZSD138_CARTE['Cart Venda'] = ZSD138_CARTE['Cart Venda'].apply(lambda x: float(x.replace(\".\",\"\").replace(\",\",\".\")))\n",
    "ZSD138_CARTE = ZSD138_CARTE.groupby(['Material'])[['Cart Venda']].sum().round(3).reset_index()[['Material','Cart Venda']]\n",
    "ZSD138_CARTE.to_excel('U:\\\\Controladoria\\\\Cadastro\\\\14 - AUTOMATIZAÇÃO PYTHON\\\\Projetos\\\\Rafa pilot\\\\Marcar item para eliminar\\\\Pro\\\\Saldos\\\\ZSD138_CARTE.xlsx', index=None)"
   ]
  },
  {
   "cell_type": "code",
   "execution_count": 8,
   "metadata": {},
   "outputs": [],
   "source": [
    "with open ('U:\\\\Controladoria\\\\Cadastro\\\\14 - AUTOMATIZAÇÃO PYTHON\\\\Projetos\\\\Rafa pilot\\\\Marcar item para eliminar\\\\Pro\\\\Txt\\\\ZPP101.txt', encoding='latin1') as f:\n",
    "    linhas = f.readlines()\n",
    "    f.close()\n",
    "\n",
    "ZPP101 = limpar_txt(linhas)\n",
    "def ordem_func(row):\n",
    "    if (row['Ordem']!=''):\n",
    "        return 'Sim'\n",
    "ZPP101.insert(1,\"Ordem Aberta\",ZPP101.apply(ordem_func, axis=1) ,True)\n",
    "ZPP101 = ZPP101.loc[:,['Material','Ordem Aberta']]\n",
    "ZPP101.drop_duplicates(inplace=True)\n",
    "ZPP101.to_excel('U:\\\\Controladoria\\\\Cadastro\\\\14 - AUTOMATIZAÇÃO PYTHON\\\\Projetos\\\\Rafa pilot\\\\Marcar item para eliminar\\\\Pro\\\\Saldos\\\\ZPP101.xlsx' , index = None)"
   ]
  },
  {
   "cell_type": "code",
   "execution_count": 9,
   "metadata": {},
   "outputs": [],
   "source": [
    "with open ('U:\\\\Controladoria\\\\Cadastro\\\\14 - AUTOMATIZAÇÃO PYTHON\\\\Projetos\\\\Rafa pilot\\\\Marcar item para eliminar\\\\Pro\\\\Txt\\\\ME2M.txt', encoding='latin1'  ) as f:\n",
    "    linhas = f.readlines()\n",
    "    f.close()   \n",
    "\n",
    "ME2M = limpar_txt(linhas)\n",
    "ME2M = ME2M[['Material','a fornecer','UGE']]\n",
    "ME2M = ME2M.rename(columns={'UGE': 'UPP'})\n",
    "ME2M = ME2M.iloc[:,[0,1,3]]\n",
    "ME2M = ME2M.rename(columns={'a fornecer':'fornecer'})\n",
    "ME2M['fornecer'] = ME2M['fornecer'].apply(lambda x: float(x.replace(\".\",\"\").replace(\",\",\".\")))\n",
    "ME2M = ME2M.groupby(['Material','UPP'])['fornecer'].sum().round(3).reset_index()[['Material','fornecer','UPP']]\n",
    "ME2M.to_excel('U:\\\\Controladoria\\\\Cadastro\\\\14 - AUTOMATIZAÇÃO PYTHON\\\\Projetos\\\\Rafa pilot\\\\Marcar item para eliminar\\\\Pro\\\\Saldos\\\\ME2M.xlsx', index = None)"
   ]
  },
  {
   "cell_type": "code",
   "execution_count": 10,
   "metadata": {},
   "outputs": [],
   "source": [
    "with open ('U:\\\\Controladoria\\\\Cadastro\\\\14 - AUTOMATIZAÇÃO PYTHON\\\\Projetos\\\\Rafa pilot\\\\Marcar item para eliminar\\\\Pro\\\\Txt\\\\sqvi_zpp89_frequencia_venda_frequencia_venda.txt', encoding='latin1'  ) as f:\n",
    "    linhas = f.readlines()\n",
    "    f.close()   \n",
    "\n",
    "sqvi_zpp89_frequencia_venda = limpar_txt(linhas)\n",
    "sqvi_zpp89_frequencia_venda = sqvi_zpp89_frequencia_venda.loc[:,['Material']]\n",
    "sqvi_zpp89_frequencia_venda['Frequencia'] = sqvi_zpp89_frequencia_venda.groupby('Material')['Material'].transform('count')\n",
    "sqvi_zpp89_frequencia_venda = sqvi_zpp89_frequencia_venda.drop_duplicates()\n",
    "sqvi_zpp89_frequencia_venda = sqvi_zpp89_frequencia_venda.sort_values(by='Material')\n",
    "sqvi_zpp89_frequencia_venda.to_excel('U:\\\\Controladoria\\\\Cadastro\\\\14 - AUTOMATIZAÇÃO PYTHON\\\\Projetos\\\\Rafa pilot\\\\Marcar item para eliminar\\\\Pro\\\\Saldos\\\\sqvi_zpp89_frequencia_venda_frequencia_venda.xlsx', index = None)"
   ]
  },
  {
   "cell_type": "code",
   "execution_count": 11,
   "metadata": {},
   "outputs": [],
   "source": [
    "#sqvi_zpp89_frequencia_venda = sqvi_zpp89_frequencia_venda.loc[(sqvi_zpp89_frequencia_venda['Material'] == '80625101NA') ]"
   ]
  },
  {
   "cell_type": "code",
   "execution_count": 12,
   "metadata": {},
   "outputs": [],
   "source": [
    "#sqvi_zpp89_frequencia_venda['Quantidade'].apply(lambda x: float(x.replace(\".\",\"\").replace(\",\",\".\")))"
   ]
  },
  {
   "cell_type": "code",
   "execution_count": 13,
   "metadata": {},
   "outputs": [],
   "source": [
    "#sqvi_zpp89_frequencia_venda.loc[(sqvi_zpp89_frequencia_venda['Quantidade'] in '-') ]"
   ]
  },
  {
   "cell_type": "code",
   "execution_count": 14,
   "metadata": {},
   "outputs": [],
   "source": [
    "#sqvi_zpp89_frequencia_venda.head()"
   ]
  },
  {
   "cell_type": "code",
   "execution_count": 15,
   "metadata": {},
   "outputs": [],
   "source": [
    "#sqvi_zpp89_frequencia_venda.con"
   ]
  },
  {
   "cell_type": "code",
   "execution_count": 16,
   "metadata": {},
   "outputs": [],
   "source": [
    "#sqvi_zpp89_frequencia_venda.loc[(sqvi_zpp89_frequencia_venda['Quantidade'] < 0) ].head(5)"
   ]
  },
  {
   "cell_type": "code",
   "execution_count": null,
   "metadata": {},
   "outputs": [],
   "source": []
  },
  {
   "cell_type": "code",
   "execution_count": 17,
   "metadata": {},
   "outputs": [],
   "source": [
    "#sqvi_zpp89_frequencia_venda.TpDV.value_counts()"
   ]
  },
  {
   "cell_type": "code",
   "execution_count": 18,
   "metadata": {},
   "outputs": [],
   "source": [
    "#Estoque_Sql[['Estoq']] = Estoque_Sql[['Estoq']].apply(pd.to_numeric)\n",
    "#Estoque_Sql = Estoque_Sql.groupby(['Material'])[['Estoq']].sum().round(3).reset_index()\n",
    "\n",
    "#Estoque_Sql[['Livre','Bloqueado','TransfDeposito','TransfCentro','Fornecedor','Qualidade','Estoq']] = Estoque_Sql[['Livre','Bloqueado','TransfDeposito','TransfCentro','Fornecedor','Qualidade','Estoq']].apply(pd.to_numeric)\n",
    "#Estoque_Sql = Estoque_Sql.groupby(['Material'])[['Estoq']].sum().round(3).reset_index()"
   ]
  },
  {
   "cell_type": "code",
   "execution_count": 19,
   "metadata": {},
   "outputs": [
    {
     "data": {
      "text/plain": [
       "'\\n#Criar status para eliminar\\ndef minha_funcao(row):\\n    if(row[\\'Ordem Aberta\\']==\\'Não\\') and (row[\\'Cart Venda\\']==\\'\\') and  (row[\\'Venda 12 Meses\\']==\\'\\') and  (row[\\'Meses Cadastrado\\']>12) and  (row[\\'Estoq\\']==\\'\\') and  (row[\\'Soma componentes\\']==0.0) and (row[\\'Ped Compra Fert\\']==\\'\\') and (row[\\'Ped Compra Comp\\']==\\'\\'):\\n        return \\'Eliminar\\'\\n    elif(row[\\'Meses Cadastrado\\'] <=12):\\n        return \\'Cadastro novo menor que 12 meses\\'\\n    elif(row[\\'Meses Ult Venda\\'] <=12):\\n        return \\'Última venda recente menor que 12 meses\\'\\n\\ndados.insert(1,\"Status\",dados.apply(minha_funcao, axis=1) ,True)\\n'"
      ]
     },
     "execution_count": 19,
     "metadata": {},
     "output_type": "execute_result"
    }
   ],
   "source": [
    "#Criando uma coluna  \"Soma todos componentes\"\n",
    "#Soma_componentes = dados.groupby(['Material'])[['Estoq Comp']].sum().reset_index().copy()\n",
    "#Soma_componentes = Soma_componentes.rename(columns={'Estoq Comp': 'Soma componentes'})\n",
    "#dados = dados.merge(Soma_componentes.drop_duplicates('Material'),how='left',on='Material')\n",
    "#verificar se precisa usar\n",
    "#dados['Estoq Comp'] = dados['Estoq Comp'].apply(lambda x: \"\" if x == \"nan\" else x)\n",
    "#dados['Estoq'] = dados['Estoq'].apply(lambda x: \"\" if x == \"nan\" else x)\n",
    "\n",
    "\"\"\"\n",
    "#Criar status para eliminar\n",
    "def minha_funcao(row):\n",
    "    if(row['Ordem Aberta']=='Não') and (row['Cart Venda']=='') and  (row['Venda 12 Meses']=='') and  (row['Meses Cadastrado']>12) and  (row['Estoq']=='') and  (row['Soma componentes']==0.0) and (row['Ped Compra Fert']=='') and (row['Ped Compra Comp']==''):\n",
    "        return 'Eliminar'\n",
    "    elif(row['Meses Cadastrado'] <=12):\n",
    "        return 'Cadastro novo menor que 12 meses'\n",
    "    elif(row['Meses Ult Venda'] <=12):\n",
    "        return 'Última venda recente menor que 12 meses'\n",
    "\n",
    "dados.insert(1,\"Status\",dados.apply(minha_funcao, axis=1) ,True)\n",
    "\"\"\"\n",
    "#dados = dados.drop(['Soma componentes'], axis='columns')"
   ]
  }
 ],
 "metadata": {
  "kernelspec": {
   "display_name": "Python 3",
   "language": "python",
   "name": "python3"
  },
  "language_info": {
   "codemirror_mode": {
    "name": "ipython",
    "version": 3
   },
   "file_extension": ".py",
   "mimetype": "text/x-python",
   "name": "python",
   "nbconvert_exporter": "python",
   "pygments_lexer": "ipython3",
   "version": "3.11.1"
  },
  "orig_nbformat": 4,
  "vscode": {
   "interpreter": {
    "hash": "bdf57609ba838f2c4ce2834966387bc691c190c4cc6ecda110c4b2162833e2cd"
   }
  }
 },
 "nbformat": 4,
 "nbformat_minor": 2
}
